{
 "cells": [
  {
   "cell_type": "code",
   "execution_count": 20,
   "id": "7e560fdb-a3d9-40df-98d4-5f3f8750ee8b",
   "metadata": {},
   "outputs": [],
   "source": [
    "from glob import glob\n",
    "import pandas as pd\n",
    "import rasterio\n"
   ]
  },
  {
   "cell_type": "code",
   "execution_count": 36,
   "id": "8657410d-1701-4dc7-9238-58cdc0fd4627",
   "metadata": {},
   "outputs": [],
   "source": [
    "chips_df = pd.read_csv('/workspace/gfm-gap-filling/pretraining/chip_tracker.csv')\n",
    "tifs = glob('/workspace/chips_binary_filtered/*_merged.tif')\n",
    "cdls = glob('/workspace/chips_binary_filtered/*mask.tif')\n",
    "\n",
    "output_folder = ('/workspace/chips_single_band')"
   ]
  },
  {
   "cell_type": "code",
   "execution_count": 37,
   "id": "abb23f02-ce57-4849-b8d4-b71208f7e98d",
   "metadata": {},
   "outputs": [
    {
     "name": "stdout",
     "output_type": "stream",
     "text": [
      "['/workspace/chips_binary_filtered/chip_034_026_merged.tif', '/workspace/chips_binary_filtered/chip_004_002_merged.tif', '/workspace/chips_binary_filtered/chip_027_010_merged.tif', '/workspace/chips_binary_filtered/chip_004_077_merged.tif']\n"
     ]
    }
   ],
   "source": [
    "print(tifs[1:5])"
   ]
  },
  {
   "cell_type": "code",
   "execution_count": 50,
   "id": "52b498fc-b427-4d57-a901-beef498dd66c",
   "metadata": {},
   "outputs": [],
   "source": [
    "## chatgpt function\n",
    "def export_bands(input_path, output_dir, band_names):\n",
    "    with rasterio.open(input_path) as src:\n",
    "        #print(src.count)\n",
    "        for band_idx in range(src.count):\n",
    "            # Read the band data\n",
    "            band = src.read(band_idx + 1)\n",
    "            \n",
    "            # Define the output file path\n",
    "            output_path = f\"{output_dir}/{band_names[band_idx]}.tif\"\n",
    "            out_meta = src.meta.copy()\n",
    "            out_meta.update({\"count\": 1})\n",
    "            # Create the output file and write the band data\n",
    "            with rasterio.open(output_path, 'w', **out_meta) as dst:\n",
    "                dst.write(band, 1)\n",
    "\n",
    "# Example usage\n",
    "# input_path = 'path/to/input.tif'  # Path to the input multiband GeoTIFF\n",
    "# output_dir = 'path/to/output'     # Directory to save the output TIFF files\n",
    "# band_names = ['red', 'green', 'blue']  # User-defined names for each band\n",
    "\n",
    "# export_bands(input_path, output_dir, band_names)\n"
   ]
  },
  {
   "cell_type": "code",
   "execution_count": 39,
   "id": "6114af61-4f34-44ed-8e58-568daf4af638",
   "metadata": {},
   "outputs": [],
   "source": [
    "def row_to_dict(data_frame, chip_id):\n",
    "    # Extract the specified row as a pandas Series\n",
    "    row = data_frame.loc[data_frame.chip_id == chip_id]\n",
    "    \n",
    "    # Convert the row to a dictionary\n",
    "    row_dict = row.to_dict(orient = 'records')[0]\n",
    "    \n",
    "    return row_dict\n",
    "\n"
   ]
  },
  {
   "cell_type": "code",
   "execution_count": 43,
   "id": "2bc51ca2-3a38-4157-bf6a-c1600d058691",
   "metadata": {
    "scrolled": true
   },
   "outputs": [],
   "source": [
    "\n",
    "\n",
    "\n",
    "for tif_path in tifs:\n",
    "    chip_id = tif_path.split('/')[-1][:12]\n",
    "    chip_meta = row_to_dict(chips_df, chip_id[5:])\n",
    "    date_1 = str(int(chip_meta['first_image_date']))\n",
    "    date_2 = str(int(chip_meta['second_image_date']))\n",
    "    date_3 = str(int(chip_meta['third_image_date']))\n",
    "    band_names = [f'HLS.S30.{chip_id}.{date_1}.v1.4.B02',\n",
    "              f'HLS.S30.{chip_id}.{date_1}.v1.4.B03',\n",
    "              f'HLS.S30.{chip_id}.{date_1}.v1.4.B04',\n",
    "              f'HLS.S30.{chip_id}.{date_1}.v1.4.B08',\n",
    "              f'HLS.S30.{chip_id}.{date_2}.v1.4.B02',\n",
    "              f'HLS.S30.{chip_id}.{date_2}.v1.4.B03',\n",
    "              f'HLS.S30.{chip_id}.{date_2}.v1.4.B04',\n",
    "              f'HLS.S30.{chip_id}.{date_2}.v1.4.B08',\n",
    "              f'HLS.S30.{chip_id}.{date_3}.v1.4.B02',\n",
    "              f'HLS.S30.{chip_id}.{date_3}.v1.4.B03',\n",
    "              f'HLS.S30.{chip_id}.{date_3}.v1.4.B04',\n",
    "              f'HLS.S30.{chip_id}.{date_3}.v1.4.B08']\n",
    "    export_bands(tif_path, output_folder, band_names)\n",
    "    \n",
    "    "
   ]
  },
  {
   "cell_type": "code",
   "execution_count": null,
   "id": "7258a0d0-adb2-4ef4-850b-c03b6c6159cf",
   "metadata": {},
   "outputs": [],
   "source": []
  },
  {
   "cell_type": "code",
   "execution_count": 51,
   "id": "0bb46fe1-286c-426e-a23a-329c6703649a",
   "metadata": {},
   "outputs": [],
   "source": [
    "## export cdl binary\n",
    "\n",
    "\n",
    "\n",
    "\n",
    "for tif_path in cdls:\n",
    "  #  print(tif_path)\n",
    "    chip_id = tif_path.split('/')[-1][:12]\n",
    "    chip_meta = row_to_dict(chips_df, chip_id[5:])\n",
    "  #  print(chip_meta)\n",
    "    date_1 = str(int(chip_meta['first_image_date']))\n",
    "    date_2 = str(int(chip_meta['second_image_date']))\n",
    "    date_3 = str(int(chip_meta['third_image_date']))\n",
    "    band_names = [f'HLS.S30.{chip_id}.{date_1}.v1.4.CDL']\n",
    "    try:\n",
    "        export_bands(tif_path, output_folder, band_names)\n",
    "    except Exception:\n",
    "        pass\n",
    "\n",
    "    band_names = [f'HLS.S30.{chip_id}.{date_2}.v1.4.CDL']\n",
    "    try:\n",
    "        export_bands(tif_path, output_folder, band_names)\n",
    "    except Exception:\n",
    "        pass\n",
    "\n",
    "    band_names = [f'HLS.S30.{chip_id}.{date_3}.v1.4.CDL']\n",
    "    try:\n",
    "        export_bands(tif_path, output_folder, band_names)\n",
    "    except Exception:\n",
    "        pass\n",
    "    \n",
    "    \n",
    "\n"
   ]
  },
  {
   "cell_type": "code",
   "execution_count": null,
   "id": "31bd5431-3c78-4083-8a42-6666ef8b6edd",
   "metadata": {},
   "outputs": [],
   "source": []
  }
 ],
 "metadata": {
  "kernelspec": {
   "display_name": "Python 3 (ipykernel)",
   "language": "python",
   "name": "python3"
  },
  "language_info": {
   "codemirror_mode": {
    "name": "ipython",
    "version": 3
   },
   "file_extension": ".py",
   "mimetype": "text/x-python",
   "name": "python",
   "nbconvert_exporter": "python",
   "pygments_lexer": "ipython3",
   "version": "3.10.10"
  }
 },
 "nbformat": 4,
 "nbformat_minor": 5
}
