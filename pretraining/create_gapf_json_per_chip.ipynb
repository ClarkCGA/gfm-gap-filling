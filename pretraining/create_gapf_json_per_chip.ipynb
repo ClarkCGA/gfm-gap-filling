{
 "cells": [
  {
   "cell_type": "code",
   "execution_count": 8,
   "id": "9ec653cc-107e-45fe-9e57-593afb938cdc",
   "metadata": {},
   "outputs": [],
   "source": [
    "from glob import glob\n",
    "from random import sample\n",
    "from random import seed\n",
    "import pandas as pd\n",
    "import json"
   ]
  },
  {
   "cell_type": "code",
   "execution_count": 11,
   "id": "4afadcb8-b80e-40e1-bcda-6eae41b3f870",
   "metadata": {},
   "outputs": [],
   "source": [
    "#chips_df = pd.read_csv('/workspace/pretraining/chip_tracker.csv')\n",
    "chips_df_cdl_count = pd.read_csv('/workspace/gfm-gap-filling/pretraining/chip_tracker_cdl_count.csv')\n",
    "output_folder = ('/workspace/gfm-gap-filling/pretraining/train_single_band/chips_single_band/')\n",
    "json_path = '/workspace/gfm-gap-filling/pretraining/CDL_chips.json'\n",
    "json_path_no_0_cdl = '/workspace/gfm-gap-filling/pretraining/CDL_chips_no_bad.json'\n",
    "\n",
    "json_path_5 = '/workspace/gfm-gap-filling/pretraining/CDL_chips_5.json'\n",
    "\n",
    "train_ratio = 0.8"
   ]
  },
  {
   "cell_type": "code",
   "execution_count": 18,
   "id": "3b854a74-db24-47b9-a215-63fe18dae30a",
   "metadata": {},
   "outputs": [
    {
     "name": "stdout",
     "output_type": "stream",
     "text": [
      "['chip_059_035', 'chip_060_037', 'chip_060_041', 'chip_061_037', 'chip_065_039', 'chip_071_035', 'chip_072_034', 'chip_073_033', 'chip_073_034', 'chip_076_036', 'chip_077_036', 'chip_078_036', 'chip_078_037', 'chip_079_017']\n",
      "4238\n",
      "4224\n",
      "3379\n",
      "845\n",
      "4224\n",
      "chip_006_050\n"
     ]
    }
   ],
   "source": [
    "all_chip_ids = glob(output_folder + '*CDL.tif')\n",
    "all_chip_ids = [w.split('/')[-1][8:20] for w in all_chip_ids]\n",
    "all_chip_ids = list(set(all_chip_ids))\n",
    "seed(10)\n",
    "\n",
    "## filter out bad ids\n",
    "bad_ids = chips_df_cdl_count[chips_df_cdl_count.CDL_count == 0].chip_id.tolist()\n",
    "bad_ids = ['chip_' + s for s in bad_ids]\n",
    "print(bad_ids)\n",
    "print(len(all_chip_ids))\n",
    "\n",
    "all_chip_ids = [i for i in all_chip_ids if i not in bad_ids]\n",
    "print(len(all_chip_ids))\n",
    "\n",
    "train_ids = sample(all_chip_ids, int(len(all_chip_ids) * train_ratio))\n",
    "print(len(train_ids))\n",
    "val_ids = list(set(all_chip_ids) - set(train_ids))\n",
    "print(len(val_ids))\n",
    "print(len(set(val_ids + train_ids)))\n",
    "print(val_ids[0])"
   ]
  },
  {
   "cell_type": "code",
   "execution_count": 19,
   "id": "b80c9e60-5d25-415a-9685-0b8401f72004",
   "metadata": {},
   "outputs": [],
   "source": [
    "train_indices = []\n",
    "for chip_id in train_ids:\n",
    "    chip_dates = glob(output_folder + '*'  + chip_id + '*CDL*' )\n",
    "    chip_dates = [chip.split('/')[-1][21:28] for chip in chip_dates]\n",
    "    chip_dates.sort()\n",
    "   # print(chip_dates)\n",
    "    train_indices.append([chip_id, chip_dates, 0, 0])\n",
    "  #  print(train_indices)\n",
    "   # all_chip_ids = glob(output_folder + '*CDL.tif')\n",
    "val_indices = []\n",
    "for chip_id in val_ids:\n",
    "    chip_dates = glob(output_folder + '*'  + chip_id + '*CDL*' )\n",
    "    chip_dates = [chip.split('/')[-1][21:28] for chip in chip_dates]\n",
    "    chip_dates.sort()\n",
    "   # print(chip_dates)\n",
    "    val_indices.append([chip_id, chip_dates, 0, 0])\n"
   ]
  },
  {
   "cell_type": "code",
   "execution_count": null,
   "id": "be424d45-e5d2-4618-8ea8-351c99e193a7",
   "metadata": {},
   "outputs": [],
   "source": [
    "print(train_indices)\n",
    "print(val_indices)"
   ]
  },
  {
   "cell_type": "code",
   "execution_count": 21,
   "id": "d57ea6c6-c8fc-4b06-b626-65e11a7dd271",
   "metadata": {},
   "outputs": [],
   "source": [
    "json_data = {\"image_mean\":[775.2290211032589, 1080.992780391705, 1228.5855250417867, 2497.2022620507532],\n",
    " \"image_standard_deviation\": [1281.526139861424, 1270.0297974547493, 1399.4802505642526, 1368.3446143747644], \n",
    "\"bands\": [\"B02\", \"B03\", \"B04\", \"B08\"]}\n",
    "json_data[\"train_indices\"] = train_indices\n",
    "json_data[\"val_indices\"] = val_indices\n",
    "\n",
    "## export json\n",
    "with open(json_path_no_0_cdl, 'w') as fp:\n",
    "    json.dump(json_data, fp)"
   ]
  },
  {
   "cell_type": "code",
   "execution_count": 49,
   "id": "86e40c15-5a8c-44bf-b4ec-60521e6f2735",
   "metadata": {},
   "outputs": [],
   "source": [
    "# json_data = {\"image_mean\":[775.2290211032589, 1080.992780391705, 1228.5855250417867, 2497.2022620507532],\n",
    "#  \"image_standard_deviation\": [1281.526139861424, 1270.0297974547493, 1399.4802505642526, 1368.3446143747644], \n",
    "# \"bands\": [\"B02\", \"B03\", \"B04\", \"B05\", \"B06\", \"B07\"]}\n",
    "# json_data[\"train_indices\"] = train_indices[0:5]\n",
    "# json_data[\"val_indices\"] = val_indices[0:5]\n",
    "# ## export json\n",
    "# with open(json_path_5, 'w') as fp:\n",
    "#     json.dump(json_data, fp)"
   ]
  },
  {
   "cell_type": "code",
   "execution_count": null,
   "id": "d629d0b4-118b-423d-b512-d1e592045c52",
   "metadata": {},
   "outputs": [],
   "source": []
  }
 ],
 "metadata": {
  "kernelspec": {
   "display_name": "Python 3 (ipykernel)",
   "language": "python",
   "name": "python3"
  },
  "language_info": {
   "codemirror_mode": {
    "name": "ipython",
    "version": 3
   },
   "file_extension": ".py",
   "mimetype": "text/x-python",
   "name": "python",
   "nbconvert_exporter": "python",
   "pygments_lexer": "ipython3",
   "version": "3.10.10"
  }
 },
 "nbformat": 4,
 "nbformat_minor": 5
}
