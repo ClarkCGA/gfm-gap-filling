{
 "cells": [
  {
   "cell_type": "code",
   "execution_count": null,
   "id": "1b33749e-1e66-4d79-a7c1-ae7d1e146125",
   "metadata": {},
   "outputs": [],
   "source": [
    "import os\n",
    "import torch\n",
    "import mae.models_mae\n",
    "from mae.models_mae import MaskedAutoencoderViT\n",
    "import matplotlib.pyplot as plt\n",
    "import numpy as np\n",
    "import seaborn as sns\n",
    "import pandas as pd\n",
    "from pathlib import Path"
   ]
  },
  {
   "cell_type": "code",
   "execution_count": 5,
   "id": "86382c36-7034-4915-83ec-4d1e2fc0c436",
   "metadata": {},
   "outputs": [
    {
     "name": "stdout",
     "output_type": "stream",
     "text": [
      "/workspace/gfm-gap-filling/pretraining\n"
     ]
    }
   ],
   "source": [
    "print(os.getcwd())"
   ]
  },
  {
   "cell_type": "code",
   "execution_count": 6,
   "id": "82bacd78-98c8-46ba-8724-9ed2f208f090",
   "metadata": {},
   "outputs": [],
   "source": [
    "from mae_training import CombinedDataset"
   ]
  },
  {
   "cell_type": "code",
   "execution_count": 7,
   "id": "3b32ec0e-86c0-45eb-9dd3-ea44263dd7eb",
   "metadata": {},
   "outputs": [],
   "source": [
    "local_rank = 1\n",
    "mean = torch.tensor([495.7316,  814.1386,  924.5740, 2962.5623, 2640.8833, 1740.3031])[None,:,None,None,None].to(local_rank)\n",
    "std = torch.tensor([286.9569, 359.3304, 576.3471, 892.2656, 945.9432, 916.1625])[None,:,None,None,None].to(local_rank)\n"
   ]
  },
  {
   "cell_type": "code",
   "execution_count": 8,
   "id": "9868345e-fb88-49ae-b368-588d326cf8de",
   "metadata": {},
   "outputs": [],
   "source": [
    " def prepare_model(checkpoint, arch='mae_vit_base_patch16'):\n",
    "        # build model\n",
    "        model = getattr(mae.models_mae, arch)()\n",
    "        # load model\n",
    "        checkpoint_file = torch.load(checkpoint, map_location=f'cuda:{local_rank}')\n",
    "        msg = model.load_state_dict(checkpoint_file, strict=False)\n",
    "        print(msg)\n",
    "        return model"
   ]
  },
  {
   "cell_type": "code",
   "execution_count": 9,
   "id": "23c373cf-393a-485b-8884-072652088eed",
   "metadata": {},
   "outputs": [],
   "source": [
    "checkpoint = Path(\"/workspace/gfm-gap-filling/pretraining/epoch-832-loss-0.0473.pt\")\n",
    "save_dir = Path(\"/workspace/data/lchu/hls/vis/zero_shot_visualization\")"
   ]
  },
  {
   "cell_type": "code",
   "execution_count": 10,
   "id": "8d967fc9-b5b4-405a-a624-2bf2e4d57439",
   "metadata": {},
   "outputs": [
    {
     "name": "stdout",
     "output_type": "stream",
     "text": [
      "<All keys matched successfully>\n",
      "Model loaded.\n"
     ]
    }
   ],
   "source": [
    "model = prepare_model(checkpoint, 'mae_vit_base_patch16')\n",
    "print('Model loaded.')"
   ]
  },
  {
   "cell_type": "code",
   "execution_count": 11,
   "id": "a206a9ae-8fa2-44f4-bddf-ff41d2e76e23",
   "metadata": {},
   "outputs": [],
   "source": [
    "val_dataset = CombinedDataset(\"/workspace/gfm-gap-filling/pretraining/train_single_band/train_single_band\", split=\"validate\", num_frames=3, img_size=224, bands=6, cloud_range=[0.01,1.0],\n",
    "                              # random_cropping=random_cropping, remove_cloud=True, \n",
    "                               normalize=True)"
   ]
  },
  {
   "cell_type": "code",
   "execution_count": 12,
   "id": "39b419d1-1829-4409-897a-5c13161914ac",
   "metadata": {},
   "outputs": [
    {
     "name": "stdout",
     "output_type": "stream",
     "text": [
      "--> Validation set len = 1621\n",
      "--> Validation set masks = 1600\n"
     ]
    }
   ],
   "source": [
    "print(f\"--> Validation set len = {len(val_dataset)}\")\n",
    "print(f\"--> Validation set masks = {val_dataset.n_cloudpaths}\")"
   ]
  },
  {
   "cell_type": "code",
   "execution_count": 13,
   "id": "6ea90fee-8ed7-40b5-bc63-e368d9b548b7",
   "metadata": {},
   "outputs": [],
   "source": [
    "torch.cuda.set_device(local_rank)\n",
    "model = model.to(torch.cuda.current_device())"
   ]
  },
  {
   "cell_type": "code",
   "execution_count": 14,
   "id": "c57398f5-e1e8-418d-ba9f-aa06b86077a3",
   "metadata": {},
   "outputs": [
    {
     "name": "stdout",
     "output_type": "stream",
     "text": [
      "Shape of the first item: torch.Size([1, 2, 6, 3, 224, 224])\n"
     ]
    }
   ],
   "source": [
    "first_batch = torch.from_numpy(val_dataset[640][np.newaxis, ...]).to(local_rank)\n",
    "print(\"Shape of the first item:\", first_batch.shape)"
   ]
  },
  {
   "cell_type": "code",
   "execution_count": 15,
   "id": "53d63e3e-fc32-4840-bc36-651fe3a098ca",
   "metadata": {},
   "outputs": [],
   "source": [
    "label_mask_batch = first_batch[:,1,:,:,:,:].to(local_rank)\n",
    "batch = first_batch[:,0,:,:,:,:].to(local_rank)\n",
    "loss, pred, mask = model(batch, label_mask_batch, 0.75)"
   ]
  },
  {
   "cell_type": "code",
   "execution_count": 22,
   "id": "6e57f13d-b1fb-4f8d-97ea-bb37118939c6",
   "metadata": {},
   "outputs": [],
   "source": [
    "input = torch.ceil((batch.detach() * std) + mean) * 0.0001\n",
    "input_mask = label_mask_batch.detach()\n",
    "predicted = torch.ceil(model.unpatchify(pred).detach() * std + mean) * 0.0001\n",
    "input_masked = input * input_mask\n",
    "predicted_masked = predicted * input_mask\n",
    "non_cloud = input * (1-input_mask)\n",
    "\n",
    "input_masked = input_masked.cpu().numpy()\n",
    "predicted_masked = predicted_masked.cpu().numpy()\n",
    "non_cloud = non_cloud.cpu().numpy()\n",
    "\n",
    "input_masked[input_masked == 0] = np.nan\n",
    "predicted_masked[predicted_masked == 0] = np.nan\n",
    "non_cloud[non_cloud == 0] = np.nan"
   ]
  },
  {
   "cell_type": "code",
   "execution_count": 23,
   "id": "5be6ca6b-45b1-4de8-aefc-36ff0500e8e0",
   "metadata": {},
   "outputs": [
    {
     "data": {
      "text/plain": [
       "tensor(-3.0972, device='cuda:1')"
      ]
     },
     "execution_count": 23,
     "metadata": {},
     "output_type": "execute_result"
    }
   ],
   "source": [
    "torch.min(batch)"
   ]
  },
  {
   "cell_type": "code",
   "execution_count": 26,
   "id": "a74fd69d-1fb8-4abe-b28d-be369a2970b4",
   "metadata": {},
   "outputs": [
    {
     "data": {
      "text/plain": [
       "nan"
      ]
     },
     "execution_count": 26,
     "metadata": {},
     "output_type": "execute_result"
    }
   ],
   "source": [
    "np.min(non_cloud)"
   ]
  },
  {
   "cell_type": "code",
   "execution_count": null,
   "id": "f0a137a1-469c-403e-938a-a55ceb2af184",
   "metadata": {},
   "outputs": [],
   "source": [
    "non_cloud_data = pd.DataFrame({\n",
    "    'B2': non_cloud[0,0,1,:,:].flatten(),\n",
    "    'B3': non_cloud[0,1,1,:,:].flatten(),\n",
    "    'B4': non_cloud[0,2,1,:,:].flatten(),\n",
    "    'B5': non_cloud[0,3,1,:,:].flatten(),\n",
    "    'B7': non_cloud[0,4,1,:,:].flatten(),\n",
    "    'B8': non_cloud[0,5,1,:,:].flatten(),\n",
    "    'type': 'non_cloud'\n",
    "})\n",
    "gen_data = pd.DataFrame({\n",
    "    'B4': predicted_masked[0,0,1,:,:].flatten(),\n",
    "    'B5': predicted_masked[0,1,1,:,:].flatten(),\n",
    "    'B4': predicted_masked[0,2,1,:,:].flatten(),\n",
    "    'B5': predicted_masked[0,3,1,:,:].flatten(),\n",
    "    'B4': predicted_masked[0,4,1,:,:].flatten(),\n",
    "    'B5': predicted_masked[0,5,1,:,:].flatten(),\n",
    "    'type': 'gen'\n",
    "})\n",
    "true_data = pd.DataFrame({\n",
    "    'B4': input_masked[0,0,1,:,:].flatten(),\n",
    "    'B5': input_masked[0,1,1,:,:].flatten(),\n",
    "    'B4': input_masked[0,2,1,:,:].flatten(),\n",
    "    'B5': input_masked[0,3,1,:,:].flatten(),\n",
    "    'B4': input_masked[0,4,1,:,:].flatten(),\n",
    "    'B5': input_masked[0,5,1,:,:].flatten(),\n",
    "    'type': 'true'\n",
    "})\n",
    "df = non_cloud_data[['B2','B3','B4','B5','B7','B8']]\n",
    "g = sns.PairGrid(df, diag_sharey=False)\n",
    "\n",
    "g.map_lower(sns.histplot, bins=20)\n",
    "g.map_diag(sns.histplot, bins=20)\n",
    "\n",
    "g.axes[0,0].set_xlim(0,0.7)\n",
    "g.axes[0,0].set_ylim(0,0.7)\n",
    "g.axes[1,1].set_xlim(0,0.7)\n",
    "g.axes[1,1].set_ylim(0,0.7)\n",
    "g.axes[2,2].set_xlim(0,0.7)\n",
    "g.axes[2,2].set_ylim(0,0.7)\n",
    "g.axes[3,3].set_xlim(0,0.7)\n",
    "g.axes[3,3].set_ylim(0,0.7)\n",
    "g.axes[4,4].set_xlim(0,0.7)\n",
    "g.axes[4,4].set_ylim(0,0.7)\n",
    "g.axes[5,5].set_xlim(0,0.7)\n",
    "g.axes[5,5].set_ylim(0,0.7)\n",
    "\n",
    "\n",
    "plt.show()"
   ]
  },
  {
   "cell_type": "code",
   "execution_count": null,
   "id": "ba1a0af7-9449-4fad-867f-52b457b56178",
   "metadata": {},
   "outputs": [],
   "source": [
    "\n",
    "\n",
    "fig, axes = plt.subplots(1, 3, figsize=(15, 5))\n",
    "\n",
    "sns.histplot(non_cloud_data, x=\"B4\", y=\"B5\", bins=30, ax=axes[0], color='blue')\n",
    "axes[0].set_xlim(0, 0.7)\n",
    "axes[0].set_ylim(0, 0.7)\n",
    "axes[0].set_xlabel('Red Reflectance')\n",
    "axes[0].set_ylabel('NIR Reflectance')\n",
    "axes[0].set_title('Non-Cloud Pixels')\n",
    "sns.regplot(non_cloud_data, x=\"B4\", y=\"B5\", ax=axes[0], scatter=False, color='black')\n",
    "\n",
    "sns.histplot(gen_data, x=\"B4\", y=\"B5\", bins=30, ax=axes[1], color='green')\n",
    "axes[1].set_xlim(0, 0.7)\n",
    "axes[1].set_ylim(0, 0.7)\n",
    "axes[1].set_xlabel('Red Reflectance')\n",
    "axes[1].set_ylabel('NIR Reflectance')\n",
    "axes[1].set_title('Generated Pixels')\n",
    "sns.regplot(gen_data, x=\"B4\", y=\"B5\", ax=axes[1], scatter=False, color='black')\n",
    "\n",
    "sns.histplot(true_data, x=\"B4\", y=\"B5\", bins=30, ax=axes[2], color='orange')\n",
    "axes[2].set_xlim(0, 0.7)\n",
    "axes[2].set_ylim(0, 0.7)\n",
    "axes[2].set_xlabel('Red Reflectance')\n",
    "axes[2].set_ylabel('NIR Reflectance')\n",
    "axes[2].set_title('Cloud-Masked Pixels')\n",
    "sns.regplot(true_data, x=\"B4\", y=\"B5\", ax=axes[2], scatter=False, color='black')\n",
    "\n",
    "# Set a common title for all subplots\n",
    "plt.suptitle(f'Relationship Between Band Reflectance Values in True and Generated Pixels with Line of Best Fit', fontsize=16)\n",
    "\n",
    "# Adjust layout for better spacing between subplots\n",
    "plt.tight_layout()\n",
    "filename = 'B4_B5_Graph.png'\n",
    "print(str(save_dir / filename))\n",
    "plt.savefig(save_dir / filename, format='png')\n"
   ]
  }
 ],
 "metadata": {
  "kernelspec": {
   "display_name": "Python 3 (ipykernel)",
   "language": "python",
   "name": "python3"
  },
  "language_info": {
   "codemirror_mode": {
    "name": "ipython",
    "version": 3
   },
   "file_extension": ".py",
   "mimetype": "text/x-python",
   "name": "python",
   "nbconvert_exporter": "python",
   "pygments_lexer": "ipython3",
   "version": "3.10.10"
  }
 },
 "nbformat": 4,
 "nbformat_minor": 5
}
