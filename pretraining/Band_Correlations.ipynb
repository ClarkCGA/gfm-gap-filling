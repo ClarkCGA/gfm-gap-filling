{
 "cells": [
  {
   "cell_type": "code",
   "execution_count": 101,
   "id": "1b33749e-1e66-4d79-a7c1-ae7d1e146125",
   "metadata": {},
   "outputs": [],
   "source": [
    "import os\n",
    "import torch\n",
    "import mae.models_mae\n",
    "from mae.models_mae import MaskedAutoencoderViT\n",
    "import matplotlib.pyplot as plt\n",
    "import numpy as np\n",
    "import seaborn as sns\n",
    "import pandas as pd"
   ]
  },
  {
   "cell_type": "code",
   "execution_count": 2,
   "id": "86382c36-7034-4915-83ec-4d1e2fc0c436",
   "metadata": {},
   "outputs": [
    {
     "name": "stdout",
     "output_type": "stream",
     "text": [
      "/workspace/gfm-gap-filling/pretraining\n"
     ]
    }
   ],
   "source": [
    "print(os.getcwd())"
   ]
  },
  {
   "cell_type": "code",
   "execution_count": 3,
   "id": "82bacd78-98c8-46ba-8724-9ed2f208f090",
   "metadata": {},
   "outputs": [
    {
     "name": "stderr",
     "output_type": "stream",
     "text": [
      "/opt/conda/lib/python3.10/site-packages/tqdm/auto.py:21: TqdmWarning: IProgress not found. Please update jupyter and ipywidgets. See https://ipywidgets.readthedocs.io/en/stable/user_install.html\n",
      "  from .autonotebook import tqdm as notebook_tqdm\n"
     ]
    }
   ],
   "source": [
    "from mae_training import CombinedDataset"
   ]
  },
  {
   "cell_type": "code",
   "execution_count": 31,
   "id": "3b32ec0e-86c0-45eb-9dd3-ea44263dd7eb",
   "metadata": {},
   "outputs": [],
   "source": [
    "local_rank = 1\n",
    "mean = torch.tensor([495.7316,  814.1386,  924.5740, 2962.5623, 2640.8833, 1740.3031])[None,:,None,None,None].to(local_rank)\n",
    "std = torch.tensor([286.9569, 359.3304, 576.3471, 892.2656, 945.9432, 916.1625])[None,:,None,None,None].to(local_rank)\n"
   ]
  },
  {
   "cell_type": "code",
   "execution_count": 23,
   "id": "9868345e-fb88-49ae-b368-588d326cf8de",
   "metadata": {},
   "outputs": [],
   "source": [
    " def prepare_model(checkpoint, arch='mae_vit_base_patch16'):\n",
    "        # build model\n",
    "        model = getattr(mae.models_mae, arch)()\n",
    "        # load model\n",
    "        checkpoint_file = torch.load(checkpoint, map_location=f'cuda:{local_rank}')\n",
    "        msg = model.load_state_dict(checkpoint_file, strict=False)\n",
    "        print(msg)\n",
    "        return model"
   ]
  },
  {
   "cell_type": "code",
   "execution_count": 24,
   "id": "8d967fc9-b5b4-405a-a624-2bf2e4d57439",
   "metadata": {},
   "outputs": [
    {
     "name": "stdout",
     "output_type": "stream",
     "text": [
      "<All keys matched successfully>\n",
      "Model loaded.\n"
     ]
    }
   ],
   "source": [
    "model = prepare_model('/workspace/data/lchu/hls/checkpoints/400-fair-bs16-2023-08-20_17-19-23/model_best.pt', 'mae_vit_base_patch16')\n",
    "print('Model loaded.')"
   ]
  },
  {
   "cell_type": "code",
   "execution_count": 13,
   "id": "a206a9ae-8fa2-44f4-bddf-ff41d2e76e23",
   "metadata": {},
   "outputs": [],
   "source": [
    "val_dataset = CombinedDataset(\"/workspace/gfm-gap-filling/pretraining/train_single_band/train_single_band\", split=\"validate\", num_frames=3, img_size=224, bands=6, cloud_range=[0.01,1.0],\n",
    "                              # random_cropping=random_cropping, remove_cloud=True, \n",
    "                               normalize=True)"
   ]
  },
  {
   "cell_type": "code",
   "execution_count": 14,
   "id": "39b419d1-1829-4409-897a-5c13161914ac",
   "metadata": {},
   "outputs": [
    {
     "name": "stdout",
     "output_type": "stream",
     "text": [
      "--> Validation set len = 1621\n",
      "--> Validation set masks = 1600\n"
     ]
    }
   ],
   "source": [
    "print(f\"--> Validation set len = {len(val_dataset)}\")\n",
    "print(f\"--> Validation set masks = {val_dataset.n_cloudpaths}\")"
   ]
  },
  {
   "cell_type": "code",
   "execution_count": 25,
   "id": "6ea90fee-8ed7-40b5-bc63-e368d9b548b7",
   "metadata": {},
   "outputs": [],
   "source": [
    "torch.cuda.set_device(local_rank)\n",
    "model = model.to(torch.cuda.current_device())"
   ]
  },
  {
   "cell_type": "code",
   "execution_count": 163,
   "id": "c57398f5-e1e8-418d-ba9f-aa06b86077a3",
   "metadata": {},
   "outputs": [
    {
     "name": "stdout",
     "output_type": "stream",
     "text": [
      "Shape of the first item: torch.Size([1, 2, 6, 3, 224, 224])\n"
     ]
    }
   ],
   "source": [
    "first_batch = torch.from_numpy(val_dataset[160][np.newaxis, ...]).to(local_rank)\n",
    "print(\"Shape of the first item:\", first_batch.shape)"
   ]
  },
  {
   "cell_type": "code",
   "execution_count": 164,
   "id": "53d63e3e-fc32-4840-bc36-651fe3a098ca",
   "metadata": {},
   "outputs": [],
   "source": [
    "label_mask_batch = first_batch[:,1,:,:,:,:].to(local_rank)\n",
    "batch = first_batch[:,0,:,:,:,:].to(local_rank)\n",
    "loss, pred, mask = model(batch, label_mask_batch, 0.75)"
   ]
  },
  {
   "cell_type": "code",
   "execution_count": 174,
   "id": "6e57f13d-b1fb-4f8d-97ea-bb37118939c6",
   "metadata": {},
   "outputs": [],
   "source": [
    "input = ((batch.detach() * std) + mean) * 0.0001\n",
    "input_mask = label_mask_batch.detach()\n",
    "predicted = (model.unpatchify(pred).detach() * std + mean) * 0.0001\n",
    "input_masked = input * input_mask\n",
    "predicted_masked = predicted * input_mask\n",
    "non_cloud = input * (1-input_mask)"
   ]
  },
  {
   "cell_type": "code",
   "execution_count": 179,
   "id": "5be6ca6b-45b1-4de8-aefc-36ff0500e8e0",
   "metadata": {},
   "outputs": [
    {
     "data": {
      "text/plain": [
       "tensor(-3.3203, device='cuda:1')"
      ]
     },
     "execution_count": 179,
     "metadata": {},
     "output_type": "execute_result"
    }
   ],
   "source": [
    "torch.min(batch)"
   ]
  },
  {
   "cell_type": "code",
   "execution_count": 176,
   "id": "a74fd69d-1fb8-4abe-b28d-be369a2970b4",
   "metadata": {},
   "outputs": [
    {
     "data": {
      "text/plain": [
       "tensor(-0.0002, device='cuda:1')"
      ]
     },
     "execution_count": 176,
     "metadata": {},
     "output_type": "execute_result"
    }
   ],
   "source": [
    "torch.min(batch * std + mean)"
   ]
  },
  {
   "cell_type": "code",
   "execution_count": 177,
   "id": "a1ceebf4-c3cb-4a35-b1de-d02bb48d9376",
   "metadata": {},
   "outputs": [],
   "source": [
    "B4_non_cloud = non_cloud[0,3,1,:,:].cpu().numpy()\n",
    "B5_non_cloud = non_cloud[0,4,1,:,:].cpu().numpy()\n",
    "B4_gen = input_masked[0,3,1,:,:].cpu().numpy()\n",
    "B5_gen = input_masked[0,4,1,:,:].cpu().numpy()\n",
    "B4_true = predicted_masked[0,3,1,:,:].cpu().numpy()\n",
    "B5_true = predicted_masked[0,4,1,:,:].cpu().numpy()\n",
    "B4_non_cloud[B4_non_cloud == 0] = np.nan\n",
    "B5_non_cloud[B5_non_cloud == 0] = np.nan\n",
    "B4_gen[B4_gen == 0] = np.nan\n",
    "B5_gen[B5_gen == 0] = np.nan\n",
    "B4_true[B4_true == 0] = np.nan\n",
    "B5_true[B5_true == 0] = np.nan"
   ]
  },
  {
   "cell_type": "code",
   "execution_count": 180,
   "id": "f0a137a1-469c-403e-938a-a55ceb2af184",
   "metadata": {},
   "outputs": [
    {
     "data": {
      "text/plain": [
       "<Axes: xlabel='B4', ylabel='B5'>"
      ]
     },
     "execution_count": 180,
     "metadata": {},
     "output_type": "execute_result"
    },
    {
     "data": {
      "image/png": "[encoded data removed]",
      "text/plain": [
       "<Figure size 640x480 with 1 Axes>"
      ]
     },
     "metadata": {},
     "output_type": "display_data"
    }
   ],
   "source": [
    "non_cloud_data = pd.DataFrame({\n",
    "    'B4': B4_non_cloud.flatten(),\n",
    "    'B5': B5_non_cloud.flatten(),\n",
    "    'type': 'non_cloud'\n",
    "})\n",
    "gen_data = pd.DataFrame({\n",
    "    'B4': B4_gen.flatten(),\n",
    "    'B5': B5_gen.flatten(),\n",
    "    'type': 'gen'\n",
    "})\n",
    "true_data = pd.DataFrame({\n",
    "    'B4': B4_true.flatten(),\n",
    "    'B5': B5_true.flatten(),\n",
    "    'type': 'true'\n",
    "})\n",
    "data = pd.concat([gen_data, true_data, non_cloud_data], ignore_index=True)\n",
    "\n",
    "sns.relplot(\n",
    "    data=data, x=\"B4\", y=\"B5\",\n",
    "    col=\"type\", hue=\"type\",\n",
    "    kind=\"scatter\"\n",
    ")\n",
    "\n",
    "sns.histplot\n",
    "#add r^2"
   ]
  },
  {
   "cell_type": "code",
   "execution_count": null,
   "id": "ba1a0af7-9449-4fad-867f-52b457b56178",
   "metadata": {},
   "outputs": [],
   "source": []
  }
 ],
 "metadata": {
  "kernelspec": {
   "display_name": "Python 3 (ipykernel)",
   "language": "python",
   "name": "python3"
  },
  "language_info": {
   "codemirror_mode": {
    "name": "ipython",
    "version": 3
   },
   "file_extension": ".py",
   "mimetype": "text/x-python",
   "name": "python",
   "nbconvert_exporter": "python",
   "pygments_lexer": "ipython3",
   "version": "3.10.10"
  }
 },
 "nbformat": 4,
 "nbformat_minor": 5
}
