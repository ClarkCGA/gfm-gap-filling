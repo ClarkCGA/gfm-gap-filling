{
 "cells": [
  {
   "cell_type": "code",
   "execution_count": 2,
   "id": "7e560fdb-a3d9-40df-98d4-5f3f8750ee8b",
   "metadata": {},
   "outputs": [],
   "source": [
    "from glob import glob\n",
    "import pandas as pd\n",
    "import rasterio\n"
   ]
  },
  {
   "cell_type": "code",
   "execution_count": 7,
   "id": "8657410d-1701-4dc7-9238-58cdc0fd4627",
   "metadata": {},
   "outputs": [],
   "source": [
    "chips_df = pd.read_csv('/workspace/gfm-gap-filling/pretraining/chip_tracker.csv')\n",
    "#tifs = glob('/workspace/data/chips_binary_filtered/*_merged.tif')\n",
    "cdls = glob('/workspace/gfm-gap-filling/pretraining/train_single_band/chips_single_band/*.CDL.tif')\n",
    "\n",
    "output_folder = ('/workspace/data/chips_single_band/')"
   ]
  },
  {
   "cell_type": "code",
   "execution_count": 10,
   "id": "69879df3-748c-4a77-80fa-3958f96d1c9d",
   "metadata": {},
   "outputs": [
    {
     "data": {
      "text/plain": [
       "'/workspace/gfm-gap-filling/pretraining/train_single_band/chips_single_band/HLS.S30.chip_049_069.2021101.v1.4.CDL.tif'"
      ]
     },
     "execution_count": 10,
     "metadata": {},
     "output_type": "execute_result"
    }
   ],
   "source": [
    "cdls[0]"
   ]
  },
  {
   "cell_type": "code",
   "execution_count": null,
   "id": "b1b18086-9eaf-47c9-83ea-866a19cb2bbe",
   "metadata": {},
   "outputs": [],
   "source": [
    "tifs"
   ]
  },
  {
   "cell_type": "code",
   "execution_count": null,
   "id": "52b498fc-b427-4d57-a901-beef498dd66c",
   "metadata": {},
   "outputs": [],
   "source": [
    "## chatgpt function\n",
    "def export_bands(input_path, output_dir, band_names):\n",
    "    with rasterio.open(input_path) as src:\n",
    "        #print(src.count)\n",
    "        for band_idx in range(src.count):\n",
    "            # Read the band data\n",
    "            band = src.read(band_idx + 1)\n",
    "            \n",
    "            # Define the output file path\n",
    "            output_path = f\"{output_dir}/{band_names[band_idx]}.tif\"\n",
    "            out_meta = src.meta.copy()\n",
    "            out_meta.update({\"count\": 1})\n",
    "            # Create the output file and write the band data\n",
    "            with rasterio.open(output_path, 'w', **out_meta) as dst:\n",
    "                dst.write(band, 1)\n",
    "\n",
    "# Example usage\n",
    "# input_path = 'path/to/input.tif'  # Path to the input multiband GeoTIFF\n",
    "# output_dir = 'path/to/output'     # Directory to save the output TIFF files\n",
    "# band_names = ['red', 'green', 'blue']  # User-defined names for each band\n",
    "\n",
    "# export_bands(input_path, output_dir, band_names)\n"
   ]
  },
  {
   "cell_type": "code",
   "execution_count": 13,
   "id": "6114af61-4f34-44ed-8e58-568daf4af638",
   "metadata": {},
   "outputs": [],
   "source": [
    "def row_to_dict(data_frame, chip_id):\n",
    "    # Extract the specified row as a pandas Series\n",
    "    row = data_frame.loc[data_frame.chip_id == chip_id]\n",
    "    \n",
    "    # Convert the row to a dictionary\n",
    "    row_dict = row.to_dict(orient = 'records')[0]\n",
    "    \n",
    "    return row_dict\n",
    "\n"
   ]
  },
  {
   "cell_type": "code",
   "execution_count": 43,
   "id": "7258a0d0-adb2-4ef4-850b-c03b6c6159cf",
   "metadata": {},
   "outputs": [
    {
     "data": {
      "text/plain": [
       "(6400, 16)"
      ]
     },
     "execution_count": 43,
     "metadata": {},
     "output_type": "execute_result"
    }
   ],
   "source": [
    "chips_df.shape"
   ]
  },
  {
   "cell_type": "code",
   "execution_count": null,
   "id": "0bb46fe1-286c-426e-a23a-329c6703649a",
   "metadata": {},
   "outputs": [],
   "source": [
    "## export cdl binary\n",
    "\n",
    "\n",
    "\n",
    "\n",
    "for tif_path in cdls:\n",
    "  #  print(tif_path)\n",
    "    chip_id = tif_path.split('/')[-1].split('.')[2][5:]\n",
    "   # print(chip_id)\n",
    "    chip_index = chips_df.loc[chips_df.chip_id == chip_id].index.values.astype(int)\n",
    "  #  print(chip_index)\n",
    "\n",
    "    with rasterio.open(tif_path) as src:\n",
    "        values = src.read()\n",
    "     #   print(values.sum())\n",
    "        cdl_sum = values.sum()\n",
    "        \n",
    "        \n",
    "    \n",
    "    chips_df.loc[chips_df.chip_id == chip_id, 'CDL_count'] = cdl_sum\n",
    "   # chip_meta = row_to_dict(chips_df, chip_id[5:])\n",
    "  #  print(chip_meta)\n",
    "\n",
    "\n",
    "    \n",
    "    # date_1 = str(int(chip_meta['first_image_date']))\n",
    "    # date_2 = str(int(chip_meta['second_image_date']))\n",
    "    # date_3 = str(int(chip_meta['third_image_date']))\n",
    "    # band_names = [f'HLS.S30.{chip_id}.{date_1}.v1.4.CDL']\n",
    "    # export_bands(tif_path, output_folder, band_names)\n",
    "\n",
    "    # band_names = [f'HLS.S30.{chip_id}.{date_2}.v1.4.CDL']\n",
    "    # export_bands(tif_path, output_folder, band_names)\n",
    "\n",
    "    # band_names = [f'HLS.S30.{chip_id}.{date_3}.v1.4.CDL']\n",
    "    # export_bands(tif_path, output_folder, band_names)\n",
    "    \n",
    "    \n",
    "\n"
   ]
  },
  {
   "cell_type": "code",
   "execution_count": 46,
   "id": "231dc4ef-97cc-4098-a2cc-c1a962a041b6",
   "metadata": {},
   "outputs": [
    {
     "data": {
      "text/plain": [
       "(14, 16)"
      ]
     },
     "execution_count": 46,
     "metadata": {},
     "output_type": "execute_result"
    }
   ],
   "source": [
    "cdl_0_crop = chips_df[chips_df.CDL_count == 0]\n",
    "cdl_0_crop.shape"
   ]
  },
  {
   "cell_type": "code",
   "execution_count": 44,
   "id": "813bce56-b280-4931-a942-bbbfa90b5f73",
   "metadata": {},
   "outputs": [],
   "source": [
    "chips_df.to_csv('/workspace/gfm-gap-filling/pretraining/chip_tracker_cdl_count.csv')"
   ]
  },
  {
   "cell_type": "code",
   "execution_count": null,
   "id": "1f3da075-6e49-43e9-b609-60d111cb8e4a",
   "metadata": {},
   "outputs": [],
   "source": []
  }
 ],
 "metadata": {
  "kernelspec": {
   "display_name": "Python 3 (ipykernel)",
   "language": "python",
   "name": "python3"
  },
  "language_info": {
   "codemirror_mode": {
    "name": "ipython",
    "version": 3
   },
   "file_extension": ".py",
   "mimetype": "text/x-python",
   "name": "python",
   "nbconvert_exporter": "python",
   "pygments_lexer": "ipython3",
   "version": "3.10.10"
  }
 },
 "nbformat": 4,
 "nbformat_minor": 5
}
